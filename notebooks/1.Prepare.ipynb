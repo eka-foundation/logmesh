{
 "cells": [
  {
   "cell_type": "markdown",
   "metadata": {},
   "source": [
    "Our starting point is `batman.zip` file which contains one folder per mesh node. Each of the folders contain files under four headings, each file containing data from a single day.\n",
    "\n",
    "First, we unzip all of into a folder `mesh_logs`."
   ]
  },
  {
   "cell_type": "code",
   "execution_count": 1,
   "metadata": {},
   "outputs": [
    {
     "data": {
      "text/plain": [
       "0"
      ]
     },
     "execution_count": 1,
     "metadata": {},
     "output_type": "execute_result"
    }
   ],
   "source": [
    "import os\n",
    "\n",
    "os.mkdir('mesh_logs')\n",
    "os.system('unzip batman.zip')\n",
    "os.system('mv batman/* mesh_logs')\n",
    "os.system('rm -r batman')"
   ]
  },
  {
   "cell_type": "markdown",
   "metadata": {},
   "source": [
    "Next we convert the folder names to standard IP format. This is important for two reasons 1) IP format is an actual standard and there is no case for not using that standard 2) we can this way directly use the folder name as meta-data in the datatables we create in later steps"
   ]
  },
  {
   "cell_type": "code",
   "execution_count": 2,
   "metadata": {},
   "outputs": [],
   "source": [
    "# get the list of the nodes\n",
    "nodes = os.popen('ls mesh_logs').readlines()\n",
    "\n",
    "# convert the names to standard ip format\n",
    "for node in nodes:\n",
    "    \n",
    "    current = node.strip()\n",
    "    new = node.strip().replace('_', '.')\n",
    "\n",
    "    os.system('mv mesh_logs/' + current + ' mesh_logs/' + new)"
   ]
  },
  {
   "cell_type": "markdown",
   "metadata": {},
   "source": [
    "Next, we decompress the .gz files."
   ]
  },
  {
   "cell_type": "code",
   "execution_count": 3,
   "metadata": {},
   "outputs": [],
   "source": [
    "import gzip\n",
    "\n",
    "# first we get the list of the node IPs\n",
    "for node in os.popen('ls mesh_logs').readlines():\n",
    "    \n",
    "    # remove newlines\n",
    "    node = node.strip()\n",
    "    \n",
    "    os.system('gzip -d mesh_logs/' + node + '/*.gz')"
   ]
  },
  {
   "cell_type": "markdown",
   "metadata": {},
   "source": [
    "Then we move on to combine all the individual files into single files following the breakdown to four types of files: \n",
    "\n",
    "- ping_stats\n",
    "- mesh\n",
    "- bat\n",
    "- wifi\n",
    "\n",
    "We will change the naming of these to:\n",
    "\n",
    "- ping\n",
    "- mesh\n",
    "- routing\n",
    "- wifi"
   ]
  },
  {
   "cell_type": "markdown",
   "metadata": {},
   "source": [
    "Lastly before moving onto creating the datatables, we unify all the files in each node under the four headings. This leaves us four files per node."
   ]
  },
  {
   "cell_type": "code",
   "execution_count": 4,
   "metadata": {},
   "outputs": [],
   "source": [
    "for node in os.popen('ls mesh_logs').readlines():\n",
    "    \n",
    "    # remove newlines\n",
    "    node = node.strip()\n",
    "    \n",
    "    os.system('cat mesh_logs/' + node + '/bat*.lo* > ' + node + '_routing.log')\n",
    "    os.system('cat mesh_logs/' + node + '/mesh*.lo* > ' + node + '_mesh.log')\n",
    "    os.system('cat mesh_logs/' + node + '/ping_stats*.lo* > ' + node + '_ping.log')\n",
    "    os.system('cat mesh_logs/' + node + '/wifi*.lo* > ' + node + '_wifi.log')"
   ]
  },
  {
   "cell_type": "markdown",
   "metadata": {},
   "source": [
    "Before moving on, let's put all the files into a single directory `cleaned_logs` and delete the original files."
   ]
  },
  {
   "cell_type": "code",
   "execution_count": 5,
   "metadata": {},
   "outputs": [
    {
     "data": {
      "text/plain": [
       "0"
      ]
     },
     "execution_count": 5,
     "metadata": {},
     "output_type": "execute_result"
    }
   ],
   "source": [
    "os.mkdir('cleaned_logs')\n",
    "os.system('mv *.log cleaned_logs')\n",
    "os.system('rm -rf mesh_logs/')"
   ]
  }
 ],
 "metadata": {
  "kernelspec": {
   "display_name": "Python 3",
   "language": "python",
   "name": "python3"
  },
  "language_info": {
   "codemirror_mode": {
    "name": "ipython",
    "version": 3
   },
   "file_extension": ".py",
   "mimetype": "text/x-python",
   "name": "python",
   "nbconvert_exporter": "python",
   "pygments_lexer": "ipython3",
   "version": "3.6.6"
  }
 },
 "nbformat": 4,
 "nbformat_minor": 2
}
